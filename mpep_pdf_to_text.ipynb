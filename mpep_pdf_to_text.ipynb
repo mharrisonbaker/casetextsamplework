{
 "cells": [
  {
   "cell_type": "code",
   "execution_count": 3,
   "metadata": {},
   "outputs": [
    {
     "name": "stdout",
     "output_type": "stream",
     "text": [
      "Collecting PyPDF2\n",
      "  Downloading pypdf2-3.0.1-py3-none-any.whl (232 kB)\n",
      "     ---------------------------------------- 0.0/232.6 kB ? eta -:--:--\n",
      "     ------------------------------------- 232.6/232.6 kB 14.8 MB/s eta 0:00:00\n",
      "Installing collected packages: PyPDF2\n",
      "Successfully installed PyPDF2-3.0.1\n"
     ]
    },
    {
     "name": "stderr",
     "output_type": "stream",
     "text": [
      "\n",
      "[notice] A new release of pip is available: 23.0.1 -> 23.2\n",
      "[notice] To update, run: python.exe -m pip install --upgrade pip\n"
     ]
    }
   ],
   "source": [
    "!pip install PyPDF2\n",
    "!pip install nltk"
   ]
  },
  {
   "cell_type": "code",
   "execution_count": 15,
   "metadata": {},
   "outputs": [],
   "source": [
    "import os\n",
    "import PyPDF2\n",
    "from PyPDF2 import PdfReader\n",
    "import nltk\n",
    "from nltk.tokenize import sent_tokenize"
   ]
  },
  {
   "cell_type": "code",
   "execution_count": 16,
   "metadata": {},
   "outputs": [
    {
     "name": "stderr",
     "output_type": "stream",
     "text": [
      "[nltk_data] Downloading package punkt to\n",
      "[nltk_data]     C:\\Users\\Matt\\AppData\\Roaming\\nltk_data...\n",
      "[nltk_data]   Unzipping tokenizers\\punkt.zip.\n"
     ]
    },
    {
     "data": {
      "text/plain": [
       "True"
      ]
     },
     "execution_count": 16,
     "metadata": {},
     "output_type": "execute_result"
    }
   ],
   "source": [
    "nltk.download('punkt')"
   ]
  },
  {
   "cell_type": "code",
   "execution_count": 18,
   "metadata": {},
   "outputs": [],
   "source": [
    "def extract_text_from_pdf(file_path):\n",
    "    pdf_reader = PdfReader(file_path)\n",
    "\n",
    "    text = \"\"\n",
    "    for page in pdf_reader.pages:\n",
    "        text += page.extract_text()\n",
    "\n",
    "    return text\n",
    "\n",
    "def chunk_text(text):\n",
    "    return sent_tokenize(text)\n",
    "\n",
    "def process_pdfs_in_directory(input_directory, output_directory):\n",
    "    for filename in os.listdir(input_directory):\n",
    "        if filename.endswith(\".pdf\"):\n",
    "            input_file_path = os.path.join(input_directory, filename)\n",
    "            output_file_path = os.path.join(output_directory, f\"{os.path.splitext(filename)[0]}.txt\")\n",
    "\n",
    "            text = extract_text_from_pdf(input_file_path)\n",
    "            chunks = chunk_text(text)\n",
    "\n",
    "            with open(output_file_path, 'w', encoding='utf-8') as f:\n",
    "                for chunk in chunks:\n",
    "                    f.write(f\"{chunk}\\n\")\n",
    "\n",
    "input_directory = \"C:\\\\data\\\\mpep_pdf\"  # Your input directory here\n",
    "output_directory = \"C:\\\\data\\\\mpep_pdf\\\\texts\"  # Your output directory here\n",
    "process_pdfs_in_directory(input_directory, output_directory)\n"
   ]
  },
  {
   "cell_type": "code",
   "execution_count": 22,
   "metadata": {},
   "outputs": [],
   "source": [
    "\n",
    "def combine_text_files(input_directory, output_file_path):\n",
    "    combined_text = \"\"\n",
    "    for filename in os.listdir(input_directory):\n",
    "        if filename.endswith(\".txt\"):\n",
    "            file_path = os.path.join(input_directory, filename)\n",
    "            with open(file_path, 'r', encoding='utf-8') as f:\n",
    "                combined_text += f.read()\n",
    "\n",
    "    with open(output_file_path, 'w', encoding='utf-8') as f:\n",
    "        f.write(combined_text)\n",
    "\n",
    "input_directory = \"C:\\\\data\\\\mpep_pdf\\\\texts\"  # Your input directory here\n",
    "output_file_path = \"C:\\\\data\\\\mpep_pdf\\\\texts\\\\mpep_full.txt\"  # The path for the output file\n",
    "combine_text_files(input_directory, output_file_path)\n"
   ]
  },
  {
   "cell_type": "code",
   "execution_count": null,
   "metadata": {},
   "outputs": [],
   "source": []
  }
 ],
 "metadata": {
  "kernelspec": {
   "display_name": ".askmpepvenv",
   "language": "python",
   "name": "python3"
  },
  "language_info": {
   "codemirror_mode": {
    "name": "ipython",
    "version": 3
   },
   "file_extension": ".py",
   "mimetype": "text/x-python",
   "name": "python",
   "nbconvert_exporter": "python",
   "pygments_lexer": "ipython3",
   "version": "3.10.11"
  },
  "orig_nbformat": 4
 },
 "nbformat": 4,
 "nbformat_minor": 2
}
